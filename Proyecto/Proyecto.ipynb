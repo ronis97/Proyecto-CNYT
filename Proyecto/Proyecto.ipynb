{
 "cells": [
  {
   "cell_type": "markdown",
   "metadata": {},
   "source": [
    "# Proyecto Segundo Tercio"
   ]
  },
  {
   "cell_type": "markdown",
   "metadata": {},
   "source": [
    "## 1. Sistema probabilistico"
   ]
  },
  {
   "cell_type": "markdown",
   "metadata": {},
   "source": [
    "Antes de empezar, incluiremos las librerias de python con las cuales vamos a trabajar, teniendo en cuenta lo trabajado en clase."
   ]
  },
  {
   "cell_type": "code",
   "execution_count": 3,
   "metadata": {},
   "outputs": [],
   "source": [
    "import dinamica as din\n",
    "import numpy as np\n",
    "import matplotlib.pyplot as plt\n",
    "import vectmatrices as vmat"
   ]
  },
  {
   "cell_type": "markdown",
   "metadata": {},
   "source": [
    "Ahora que ya tenemos nuestras librerias, procedemos a convertir el grafo dado a matriz:\n",
    "<img src = \"Grafo.jpg\" style = \"float:center\" width = \"80%\">"
   ]
  },
  {
   "cell_type": "markdown",
   "metadata": {},
   "source": [
    "Nuestra matriz sera:\n",
    "$$M = \\begin {bmatrix} 0 & \\frac{1}{2} & \\frac{1}{2} & 0  \\\\ \\frac{1}{2}& 0 & 0 &\\frac{1}{2}\\\\ \\frac{1}{2} & 1 & 0 & \\frac{1}{2} \\\\ 0 & \\frac{1}{2}& \\frac{1}{2} & 1 \\\\\\end {bmatrix} $$  "
   ]
  },
  {
   "cell_type": "code",
   "execution_count": 2,
   "metadata": {},
   "outputs": [],
   "source": [
    "M = [\n",
    "    [[0,0],[1/2,0],[1/2,0],[0,0]],\n",
    "    [[1/2,0],[0,0],[0,0],[1/2,0]],\n",
    "    [[1/2,0],[0,0],[0,0],[1/2,0]],\n",
    "    [[0,0],[1/2,0],[1/2,0],[0,0]]\n",
    "    ]"
   ]
  },
  {
   "cell_type": "markdown",
   "metadata": {},
   "source": [
    "Y nuestro vector estado sera:\n",
    "$$V = \\begin {bmatrix} 1 \\\\ 0 \\\\ 0 \\\\ 0  \\end {bmatrix} $$"
   ]
  },
  {
   "cell_type": "code",
   "execution_count": 3,
   "metadata": {},
   "outputs": [],
   "source": [
    "V = [\n",
    "    [[1,0]],\n",
    "    [[0,0]],\n",
    "    [[0,0]],\n",
    "    [[0,0]]\n",
    "    ]"
   ]
  },
  {
   "cell_type": "markdown",
   "metadata": {},
   "source": [
    "Para 1 click nuestro resultado sera:"
   ]
  },
  {
   "cell_type": "code",
   "execution_count": 4,
   "metadata": {},
   "outputs": [
    {
     "name": "stdout",
     "output_type": "stream",
     "text": [
      "[[[0.0, 0.0]], [[0.5, 0.0]], [[0.5, 0.0]], [[0.0, 0.0]]]\n"
     ]
    },
    {
     "data": {
      "image/png": "[encoded data removed]",
      "text/plain": [
       "<Figure size 432x288 with 1 Axes>"
      ]
     },
     "metadata": {
      "needs_background": "light"
     },
     "output_type": "display_data"
    },
    {
     "name": "stdout",
     "output_type": "stream",
     "text": [
      "[0.0, 0.5, 0.5, 0.0]\n"
     ]
    }
   ],
   "source": [
    "din.main(M,V,1)"
   ]
  },
  {
   "cell_type": "markdown",
   "metadata": {},
   "source": [
    "Para 2 clicks:"
   ]
  },
  {
   "cell_type": "code",
   "execution_count": 5,
   "metadata": {},
   "outputs": [
    {
     "name": "stdout",
     "output_type": "stream",
     "text": [
      "[[[0.5, 0.0]], [[0.0, 0.0]], [[0.0, 0.0]], [[0.5, 0.0]]]\n"
     ]
    },
    {
     "data": {
      "image/png": "[encoded data removed]",
      "text/plain": [
       "<Figure size 432x288 with 1 Axes>"
      ]
     },
     "metadata": {
      "needs_background": "light"
     },
     "output_type": "display_data"
    },
    {
     "name": "stdout",
     "output_type": "stream",
     "text": [
      "[0.5, 0.0, 0.0, 0.5]\n"
     ]
    }
   ],
   "source": [
    "din.main(M,V,2)"
   ]
  },
  {
   "cell_type": "markdown",
   "metadata": {},
   "source": [
    "Y finalmente para 10 clicks, tenemos:"
   ]
  },
  {
   "cell_type": "code",
   "execution_count": 9,
   "metadata": {},
   "outputs": [
    {
     "name": "stdout",
     "output_type": "stream",
     "text": [
      "[[[0.5, 0.0]], [[0.0, 0.0]], [[0.0, 0.0]], [[0.5, 0.0]]]\n"
     ]
    },
    {
     "data": {
      "image/png": "[encoded data removed]",
      "text/plain": [
       "<Figure size 432x288 with 1 Axes>"
      ]
     },
     "metadata": {
      "needs_background": "light"
     },
     "output_type": "display_data"
    },
    {
     "name": "stdout",
     "output_type": "stream",
     "text": [
      "[0.5, 0.0, 0.0, 0.5]\n"
     ]
    }
   ],
   "source": [
    "din.main(M,V,10)"
   ]
  },
  {
   "cell_type": "markdown",
   "metadata": {},
   "source": [
    "Como vemos el sistema se tiende a estabilizar, dependiendo de (en este caso) si es par o impar, quedara en las posiciones 0 y 3 o 1 y 2."
   ]
  },
  {
   "cell_type": "markdown",
   "metadata": {},
   "source": [
    "## 2. Sistema Cuantico"
   ]
  },
  {
   "cell_type": "markdown",
   "metadata": {},
   "source": [
    "La imagen que representa nuestro sistema cuántico es:\n",
    "<img src = \"sistema.jpeg\" style = \"float:center\" width = \"80%\">"
   ]
  },
  {
   "cell_type": "markdown",
   "metadata": {},
   "source": [
    "La matriz:\n",
    "$$M_C = \\begin {bmatrix} 0 & \\frac{1}{\\sqrt{2}} & \\frac{1}{\\sqrt{2}} & 0  \\\\ \\frac{1}{\\sqrt{2}}& 0 & 0 & -\\frac{1}{\\sqrt{2}} \\\\ \\frac{1}{\\sqrt{2}}& 0 & 0 & \\frac{1}{\\sqrt{2}}\\\\ 0 & -\\frac{1}{\\sqrt{2}} & \\frac{1}{\\sqrt{2}} & 0\\end {bmatrix} $$ "
   ]
  },
  {
   "cell_type": "markdown",
   "metadata": {},
   "source": [
    "El vector:\n",
    "$$V_C = \\begin {bmatrix} \\frac{-1+i}{18} \\\\ \\frac{1-i}{\\sqrt{8}} \\\\ 0 \\\\ \\frac{i}{\\sqrt{2}}  \\end {bmatrix} $$"
   ]
  },
  {
   "cell_type": "code",
   "execution_count": 4,
   "metadata": {},
   "outputs": [],
   "source": [
    "M_C = [\n",
    "    [[0,0],[1/2**0.5,0],[1/2**0.5,0],[0,0]],\n",
    "    [[1/2**0.5,0],[0,0],[0,0],[-1/2**0.5,0]],\n",
    "    [[1/2**0.5,0],[0,0],[0,0],[1/(2**0.5),0]],\n",
    "    [[0,0],[-1/2**0.5,0],[1/2**0.5,0],[0,0]]\n",
    "    ]"
   ]
  },
  {
   "cell_type": "code",
   "execution_count": 5,
   "metadata": {},
   "outputs": [],
   "source": [
    "V_C = [\n",
    "    [[-1/8**0.5,1/8**0.5]],\n",
    "    [[1/8**0.5,-1/8**0.5]],\n",
    "    [[0,0]],\n",
    "    [[0,1/2**0.5]]\n",
    "    ]"
   ]
  },
  {
   "cell_type": "code",
   "execution_count": 18,
   "metadata": {},
   "outputs": [
    {
     "name": "stdout",
     "output_type": "stream",
     "text": [
      "[[[0.24999999999999994, 0]], [[0.24999999999999994, 0]], [[0.0, 0]], [[0.4999999999999999, 0]]]\n"
     ]
    },
    {
     "data": {
      "image/png": "[encoded data removed]",
      "text/plain": [
       "<Figure size 432x288 with 1 Axes>"
      ]
     },
     "metadata": {
      "needs_background": "light"
     },
     "output_type": "display_data"
    },
    {
     "name": "stdout",
     "output_type": "stream",
     "text": [
      "[0.06249999999999997, 0.06249999999999997, 0.0, 0.2499999999999999]\n"
     ]
    }
   ],
   "source": [
    "din.main(M_C,V_C,0)"
   ]
  },
  {
   "cell_type": "markdown",
   "metadata": {},
   "source": [
    "Basicamente es la misma version del sistema probabilistico, solo que cuantico esto es, con valores no admitidos por una probabilidad. En la vida real, y como nos menciona el libro vemos claramente que una matriz que representa un grafo de esos no es unitaria, por lo tanto se deben tener en cuenta distintas mediciones y tener cuidado de las observaciones que realizamos."
   ]
  },
  {
   "cell_type": "markdown",
   "metadata": {},
   "source": [
    "# Reseña experimento fisico"
   ]
  },
  {
   "cell_type": "markdown",
   "metadata": {},
   "source": [
    "Fue interesante observar el fenomeno de la doble rendija, trajimos los materiales (carton paja, bisturi, puntero laser, lapiz y papel aluminio), armamos nuestro soporte y aunque tuvimos dudas en como armarlo, logramos diseñar un soporte super sencillo en el que podiamos colocar la lamina para proyectar el laser. Mi compañera se encargo del armazon y yo hice los cortes en la lamina. Fue muy interesante notar como el punto que proyectaba el puntero se convertia en una linea al pasar por la lamina que habiamos hecho, fenomeno que era de esperar en este experimento y por el cual logramos cumplir la meta propuesta."
   ]
  },
  {
   "cell_type": "markdown",
   "metadata": {},
   "source": [
    "Adjunto imagenes del proyecto\n",
    "<img src = \"foto1.jpeg\" style = \"float:center\" width = \"80%\">\n",
    "<img src = \"foto2.jpeg\" style = \"float:center\" width = \"80%\">\n",
    "<img src = \"foto3.jpeg\" style = \"float:center\" width = \"80%\">"
   ]
  },
  {
   "cell_type": "markdown",
   "metadata": {},
   "source": [
    "Ademas como complemento, evidenciamos el fenomeno de superposicion, en el cual vemos que el punto esta ubicado en varias \n",
    "posiciones, formando asi la linea."
   ]
  },
  {
   "cell_type": "markdown",
   "metadata": {},
   "source": [
    "## 4. Simulacion en computador IBM"
   ]
  },
  {
   "attachments": {},
   "cell_type": "markdown",
   "metadata": {},
   "source": [
    "Tenemos nuestro circuito\n",
    "<img src = \"circuit.png\" style = \"float:center\" width = \"80%\">\n",
    "En el cual corremos la simulacion, nos da el siguiente grafico de barras\n",
    "<img src = \"barras.jpg\" style = \"float:center\" width = \"80%\">"
   ]
  },
  {
   "cell_type": "markdown",
   "metadata": {},
   "source": [
    "Es muy evidente la similitud entre estos circuitos y nuestros sistemas probabilisticos-cuanticos"
   ]
  },
  {
   "attachments": {},
   "cell_type": "markdown",
   "metadata": {},
   "source": [
    "Ahora probamos nuestro segundo circuito propuesto:\n",
    "<img src = \"circuit1.png\" style = \"float:center\" width = \"80%\">\n",
    "El resultado de las barras es:\n",
    "<img src = \"barras1.jpg\" style = \"float:center\" width = \"80%\">"
   ]
  },
  {
   "cell_type": "markdown",
   "metadata": {},
   "source": [
    "Con esto comprobamos que en efecto nuestras simulaciones son muy parecidas a las realizadas por circuitos en computadores cuanticos."
   ]
  },
  {
   "cell_type": "code",
   "execution_count": null,
   "metadata": {},
   "outputs": [],
   "source": []
  }
 ],
 "metadata": {
  "kernelspec": {
   "display_name": "Python 3",
   "language": "python",
   "name": "python3"
  },
  "language_info": {
   "codemirror_mode": {
    "name": "ipython",
    "version": 3
   },
   "file_extension": ".py",
   "mimetype": "text/x-python",
   "name": "python",
   "nbconvert_exporter": "python",
   "pygments_lexer": "ipython3",
   "version": "3.6.2"
  }
 },
 "nbformat": 4,
 "nbformat_minor": 4
}
